{
 "cells": [
  {
   "cell_type": "markdown",
   "metadata": {},
   "source": [
    "# Prediction of CO2 Emission per Country\n",
    "## Pappo, Katz, Pimenta Silva, Tuncel"
   ]
  },
  {
   "cell_type": "markdown",
   "metadata": {},
   "source": [
    "### Importing and Downloading"
   ]
  },
  {
   "cell_type": "code",
   "execution_count": 20,
   "metadata": {},
   "outputs": [],
   "source": [
    "import numpy as np\n",
    "import pandas as pd"
   ]
  },
  {
   "cell_type": "code",
   "execution_count": 73,
   "metadata": {},
   "outputs": [],
   "source": [
    "df_CO2_brut = pd.read_csv('data/GCB2022v27_MtCo2_flat.csv')\n",
    "# df_CO2"
   ]
  },
  {
   "cell_type": "code",
   "execution_count": 74,
   "metadata": {},
   "outputs": [],
   "source": [
    "df_GEI_brut = pd.read_csv('data/Global Economy Indicators.csv')\n",
    "# df_GEI_brut"
   ]
  },
  {
   "cell_type": "markdown",
   "metadata": {},
   "source": [
    "### Cleaning the datasets"
   ]
  },
  {
   "cell_type": "code",
   "execution_count": null,
   "metadata": {},
   "outputs": [],
   "source": [
    "# Drop rows where year is less than 1970\n",
    "df_CO2 = df_CO2_brut.drop(df_CO2_brut[df_CO2_brut['Year'] < 1970].index)\n",
    "\n",
    "df_CO2 = df_CO2.drop(columns=['ISO 3166-1 alpha-3'])\n",
    "\n",
    "# Replace NaN values with 0\n",
    "df_CO2 = df_CO2.replace(np.nan, 0)\n",
    "\n",
    "# Delete spaces in column names\n",
    "df_CO2.columns = df_CO2.columns.str.strip()\n",
    "\n",
    "df_CO2['Country'] = df_CO2['Country'].replace({'USA': 'United States of America'})\n",
    "df_CO2['Country'] = df_CO2['Country'].replace({'Democratic Republic of the Congo': 'Democratic Republic of Congo'})\n",
    "\n",
    "df_CO2.reset_index(drop=True, inplace=True)\n",
    "# df_CO2.head()"
   ]
  },
  {
   "cell_type": "code",
   "execution_count": null,
   "metadata": {},
   "outputs": [],
   "source": [
    "# Drop columns that are not needed\n",
    "df_GEI = df_GEI_brut.drop(columns=[\n",
    "    ' Currency ',\n",
    "    ' AMA exchange rate ', \n",
    "    ' IMF based exchange rate ', \n",
    "    ' Changes in inventories ', \n",
    "    ' Other Activities (ISIC J-P) '])\n",
    "\n",
    "# Delete spaces in column names\n",
    "df_GEI.columns = df_GEI.columns.str.strip()\n",
    "\n",
    "# Delete spaces in Country names\n",
    "df_GEI['Country'] = df_GEI['Country'].str.strip()\n",
    "\n",
    "df_GEI['Country'] = df_GEI['Country'].replace({'United States': 'United States of America'})\n",
    "df_GEI['Country'] = df_GEI['Country'].replace({'D.R. of the Congo': 'Democratic Republic of Congo'})\n",
    "df_GEI['Country'] = df_GEI['Country'].replace({'Russian Federation': 'Russia'})\n",
    "\n",
    "df_GEI.reset_index(drop=True, inplace=True)\n",
    "\n",
    "# Rename columns\n",
    "df_GEI.rename(columns={\n",
    "    'Agriculture, hunting, forestry, fishing (ISIC A-B)': 'Agriculture & Fishing',\n",
    "    'Construction (ISIC F)': 'Construction',\n",
    "    'Exports of goods and services': 'Exports',\n",
    "    'Final consumption expenditure': 'Final Consumption',\n",
    "    'General government final consumption expenditure': 'Gov. Consumption',\n",
    "    'Gross capital formation': 'Gross Capital Formation',\n",
    "    'Gross fixed capital formation (including Acquisitions less disposals of valuables)': 'Gross Fixed Capital',\n",
    "    'Household consumption expenditure (including Non-profit institutions serving households)': 'Household Consumption',\n",
    "    'Imports of goods and services': 'Imports',\n",
    "    'Manufacturing (ISIC D)': 'Manufacturing',\n",
    "    'Mining, Manufacturing, Utilities (ISIC C-E)': 'Mining & Utilities',\n",
    "    'Total Value Added': 'Total Value Added',\n",
    "    'Transport, storage and communication (ISIC I)': 'Transport & Comm.',\n",
    "    'Wholesale, retail trade, restaurants and hotels (ISIC G-H)': 'Wholesale & Retail',\n",
    "    'Gross National Income(GNI) in USD': 'GNI (USD)',\n",
    "    'Gross Domestic Product (GDP)': 'GDP',\n",
    "    'Total': 'Total'\n",
    "}, inplace=True)\n",
    "\n",
    "# df_GEI.head()"
   ]
  },
  {
   "cell_type": "markdown",
   "metadata": {},
   "source": [
    "### Merging Datasets"
   ]
  },
  {
   "cell_type": "code",
   "execution_count": null,
   "metadata": {},
   "outputs": [],
   "source": [
    "# Merge the two dataframes on 'Country' and 'Year'\n",
    "df = df_GEI.merge(df_CO2, on=['Country', 'Year'])\n",
    "\n",
    "df.head()"
   ]
  },
  {
   "cell_type": "markdown",
   "metadata": {},
   "source": [
    "### Vizualisation"
   ]
  },
  {
   "cell_type": "code",
   "execution_count": 137,
   "metadata": {},
   "outputs": [],
   "source": [
    "import seaborn as sns\n",
    "import matplotlib.pyplot as plt"
   ]
  },
  {
   "cell_type": "code",
   "execution_count": null,
   "metadata": {},
   "outputs": [],
   "source": [
    "df_corr = df[[\n",
    "    'Agriculture & Fishing',\n",
    "    'Construction',\n",
    "    'Exports',\n",
    "    'Final Consumption',\n",
    "    'Gov. Consumption',\n",
    "    'Gross Fixed Capital',\n",
    "    'Household Consumption',\n",
    "    'Imports', \n",
    "    'Manufacturing',\n",
    "    'Mining & Utilities', \n",
    "    'Transport & Comm.',\n",
    "    'Wholesale & Retail',\n",
    "    'GNI (USD)', \n",
    "    'Total']].corr()\n",
    "\n",
    "plt.figure(figsize=(10, 8))  # Définir la taille de la figure\n",
    "sns.heatmap(df_corr, annot=True, cmap='coolwarm', fmt='.2f', cbar=True)\n",
    "plt.title(\"Correlation Matrix\")\n",
    "plt.show()"
   ]
  },
  {
   "cell_type": "code",
   "execution_count": null,
   "metadata": {},
   "outputs": [],
   "source": [
    "df_total = df[['Year', 'Total']].groupby('Year').sum().reset_index()\n",
    "\n",
    "plt.figure(figsize=(5, 4))\n",
    "plt.plot(df_total['Year'], df_total['Total'], label='Total CO2 Emissions')\n",
    "plt.xlabel('Year')\n",
    "plt.ylabel('CO2 Emissions (Mt)')\n",
    "plt.title('Total CO2 Emissions')\n",
    "plt.show() "
   ]
  },
  {
   "cell_type": "code",
   "execution_count": null,
   "metadata": {},
   "outputs": [],
   "source": [
    "# Group by year and sum the production for each sector and countries\n",
    "df_prod = df.groupby('Year')[\n",
    "    ['Agriculture & Fishing', 'Construction', 'Household Consumption', \n",
    "     'Manufacturing', 'Mining & Utilities', 'Transport & Comm.', 'Wholesale & Retail']\n",
    "].sum().reset_index()\n",
    "\n",
    "# List of sectors\n",
    "sectors = ['Agriculture & Fishing', 'Construction', 'Household Consumption', \n",
    "           'Manufacturing', 'Mining & Utilities', 'Transport & Comm.', 'Wholesale & Retail']\n",
    "\n",
    "plt.figure(figsize=(8, 6))\n",
    "for sector in sectors:\n",
    "    plt.plot(df_prod['Year'], df_prod[sector], label=sector)\n",
    "\n",
    "plt.xlabel('Year')\n",
    "plt.ylabel('Production ($)')\n",
    "plt.title('Production by Sector')\n",
    "plt.legend()\n",
    "plt.show()"
   ]
  },
  {
   "cell_type": "code",
   "execution_count": 186,
   "metadata": {},
   "outputs": [],
   "source": [
    "import geopandas as gpd"
   ]
  },
  {
   "cell_type": "code",
   "execution_count": null,
   "metadata": {},
   "outputs": [],
   "source": [
    "url = \"https://naciscdn.org/naturalearth/110m/cultural/ne_110m_admin_0_countries.zip\"\n",
    "gdf = gpd.read_file(url)\n",
    "\n",
    "df_world = gdf.merge(df, left_on='ADMIN', right_on='Country')\n",
    "\n",
    "fig, ax = plt.subplots(1, 1, figsize=(10, 5))\n",
    "df_world.plot(column='Total',\n",
    "              cmap='OrRd',\n",
    "              legend=True,\n",
    "              legend_kwds={'label': \"Total CO2 Emissions\"},\n",
    "              ax=ax)\n",
    "\n",
    "ax.set_title('Total CO2 Emissions per country')\n",
    "plt.show()"
   ]
  },
  {
   "cell_type": "markdown",
   "metadata": {},
   "source": [
    "### Prediction"
   ]
  },
  {
   "cell_type": "code",
   "execution_count": 289,
   "metadata": {},
   "outputs": [],
   "source": [
    "from sklearn.model_selection import train_test_split\n",
    "from sklearn.linear_model import LinearRegression\n",
    "from sklearn.metrics import mean_squared_error, r2_score"
   ]
  }
 ],
 "metadata": {
  "kernelspec": {
   "display_name": ".venv",
   "language": "python",
   "name": "python3"
  },
  "language_info": {
   "codemirror_mode": {
    "name": "ipython",
    "version": 3
   },
   "file_extension": ".py",
   "mimetype": "text/x-python",
   "name": "python",
   "nbconvert_exporter": "python",
   "pygments_lexer": "ipython3",
   "version": "3.11.9"
  }
 },
 "nbformat": 4,
 "nbformat_minor": 2
}
