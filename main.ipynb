{
 "cells": [
  {
   "cell_type": "markdown",
   "metadata": {},
   "source": [
    "# Emission de gaz à effet de serre"
   ]
  },
  {
   "cell_type": "markdown",
   "metadata": {},
   "source": [
    "### Importation des données"
   ]
  },
  {
   "cell_type": "code",
   "execution_count": 1,
   "metadata": {},
   "outputs": [],
   "source": [
    "import pandas as pd\n",
    "import numpy as np\n",
    "import matplotlib.pyplot as plt\n",
    "import seaborn as sns\n",
    "import os"
   ]
  },
  {
   "cell_type": "code",
   "execution_count": 2,
   "metadata": {},
   "outputs": [
    {
     "data": {
      "text/html": [
       "<div>\n",
       "<style scoped>\n",
       "    .dataframe tbody tr th:only-of-type {\n",
       "        vertical-align: middle;\n",
       "    }\n",
       "\n",
       "    .dataframe tbody tr th {\n",
       "        vertical-align: top;\n",
       "    }\n",
       "\n",
       "    .dataframe thead th {\n",
       "        text-align: right;\n",
       "    }\n",
       "</style>\n",
       "<table border=\"1\" class=\"dataframe\">\n",
       "  <thead>\n",
       "    <tr style=\"text-align: right;\">\n",
       "      <th></th>\n",
       "      <th>Entity</th>\n",
       "      <th>Code</th>\n",
       "      <th>Year</th>\n",
       "      <th>Carbon dioxide emissions from buildings</th>\n",
       "      <th>Carbon dioxide emissions from industry</th>\n",
       "      <th>Carbon dioxide emissions from land use change and forestry</th>\n",
       "      <th>Carbon dioxide emissions from other fuel combustion</th>\n",
       "      <th>Carbon dioxide emissions from transport</th>\n",
       "      <th>Carbon dioxide emissions from manufacturing and construction</th>\n",
       "      <th>Fugitive emissions of carbon dioxide from energy production</th>\n",
       "      <th>Carbon dioxide emissions from electricity and heat</th>\n",
       "      <th>Carbon dioxide emissions from bunker fuels</th>\n",
       "    </tr>\n",
       "  </thead>\n",
       "  <tbody>\n",
       "    <tr>\n",
       "      <th>0</th>\n",
       "      <td>Afghanistan</td>\n",
       "      <td>AFG</td>\n",
       "      <td>1990</td>\n",
       "      <td>129999.99</td>\n",
       "      <td>50000.0</td>\n",
       "      <td>-2390000.0</td>\n",
       "      <td>0.0</td>\n",
       "      <td>980000.0</td>\n",
       "      <td>570000.0</td>\n",
       "      <td>NaN</td>\n",
       "      <td>320000.0</td>\n",
       "      <td>20000.0</td>\n",
       "    </tr>\n",
       "    <tr>\n",
       "      <th>1</th>\n",
       "      <td>Afghanistan</td>\n",
       "      <td>AFG</td>\n",
       "      <td>1991</td>\n",
       "      <td>140000.00</td>\n",
       "      <td>50000.0</td>\n",
       "      <td>-2390000.0</td>\n",
       "      <td>0.0</td>\n",
       "      <td>930000.0</td>\n",
       "      <td>530000.0</td>\n",
       "      <td>NaN</td>\n",
       "      <td>300000.0</td>\n",
       "      <td>20000.0</td>\n",
       "    </tr>\n",
       "    <tr>\n",
       "      <th>2</th>\n",
       "      <td>Afghanistan</td>\n",
       "      <td>AFG</td>\n",
       "      <td>1992</td>\n",
       "      <td>150000.00</td>\n",
       "      <td>50000.0</td>\n",
       "      <td>-2390000.0</td>\n",
       "      <td>0.0</td>\n",
       "      <td>740000.0</td>\n",
       "      <td>390000.0</td>\n",
       "      <td>NaN</td>\n",
       "      <td>200000.0</td>\n",
       "      <td>20000.0</td>\n",
       "    </tr>\n",
       "    <tr>\n",
       "      <th>3</th>\n",
       "      <td>Afghanistan</td>\n",
       "      <td>AFG</td>\n",
       "      <td>1993</td>\n",
       "      <td>160000.00</td>\n",
       "      <td>50000.0</td>\n",
       "      <td>-2390000.0</td>\n",
       "      <td>0.0</td>\n",
       "      <td>740000.0</td>\n",
       "      <td>380000.0</td>\n",
       "      <td>NaN</td>\n",
       "      <td>200000.0</td>\n",
       "      <td>20000.0</td>\n",
       "    </tr>\n",
       "    <tr>\n",
       "      <th>4</th>\n",
       "      <td>Afghanistan</td>\n",
       "      <td>AFG</td>\n",
       "      <td>1994</td>\n",
       "      <td>160000.00</td>\n",
       "      <td>50000.0</td>\n",
       "      <td>-2390000.0</td>\n",
       "      <td>0.0</td>\n",
       "      <td>730000.0</td>\n",
       "      <td>360000.0</td>\n",
       "      <td>NaN</td>\n",
       "      <td>190000.0</td>\n",
       "      <td>20000.0</td>\n",
       "    </tr>\n",
       "  </tbody>\n",
       "</table>\n",
       "</div>"
      ],
      "text/plain": [
       "        Entity Code  Year  Carbon dioxide emissions from buildings  \\\n",
       "0  Afghanistan  AFG  1990                                129999.99   \n",
       "1  Afghanistan  AFG  1991                                140000.00   \n",
       "2  Afghanistan  AFG  1992                                150000.00   \n",
       "3  Afghanistan  AFG  1993                                160000.00   \n",
       "4  Afghanistan  AFG  1994                                160000.00   \n",
       "\n",
       "   Carbon dioxide emissions from industry  \\\n",
       "0                                 50000.0   \n",
       "1                                 50000.0   \n",
       "2                                 50000.0   \n",
       "3                                 50000.0   \n",
       "4                                 50000.0   \n",
       "\n",
       "   Carbon dioxide emissions from land use change and forestry  \\\n",
       "0                                         -2390000.0            \n",
       "1                                         -2390000.0            \n",
       "2                                         -2390000.0            \n",
       "3                                         -2390000.0            \n",
       "4                                         -2390000.0            \n",
       "\n",
       "   Carbon dioxide emissions from other fuel combustion  \\\n",
       "0                                                0.0     \n",
       "1                                                0.0     \n",
       "2                                                0.0     \n",
       "3                                                0.0     \n",
       "4                                                0.0     \n",
       "\n",
       "   Carbon dioxide emissions from transport  \\\n",
       "0                                 980000.0   \n",
       "1                                 930000.0   \n",
       "2                                 740000.0   \n",
       "3                                 740000.0   \n",
       "4                                 730000.0   \n",
       "\n",
       "   Carbon dioxide emissions from manufacturing and construction  \\\n",
       "0                                           570000.0              \n",
       "1                                           530000.0              \n",
       "2                                           390000.0              \n",
       "3                                           380000.0              \n",
       "4                                           360000.0              \n",
       "\n",
       "   Fugitive emissions of carbon dioxide from energy production  \\\n",
       "0                                                NaN             \n",
       "1                                                NaN             \n",
       "2                                                NaN             \n",
       "3                                                NaN             \n",
       "4                                                NaN             \n",
       "\n",
       "   Carbon dioxide emissions from electricity and heat  \\\n",
       "0                                           320000.0    \n",
       "1                                           300000.0    \n",
       "2                                           200000.0    \n",
       "3                                           200000.0    \n",
       "4                                           190000.0    \n",
       "\n",
       "   Carbon dioxide emissions from bunker fuels  \n",
       "0                                     20000.0  \n",
       "1                                     20000.0  \n",
       "2                                     20000.0  \n",
       "3                                     20000.0  \n",
       "4                                     20000.0  "
      ]
     },
     "execution_count": 2,
     "metadata": {},
     "output_type": "execute_result"
    }
   ],
   "source": [
    "data_sector = pd.read_csv('./data/co-emissions-by-sector.csv')\n",
    "data_sector.head()"
   ]
  },
  {
   "cell_type": "code",
   "execution_count": 3,
   "metadata": {},
   "outputs": [
    {
     "name": "stderr",
     "output_type": "stream",
     "text": [
      "/var/folders/pl/0y6c2sfj0md5g3gx0c12lmrw0000gn/T/ipykernel_51097/3702483461.py:1: DtypeWarning: Columns (2) have mixed types. Specify dtype option on import or set low_memory=False.\n",
      "  data_temp = pd.read_csv('./data/city_temperature.csv')\n"
     ]
    },
    {
     "data": {
      "text/html": [
       "<div>\n",
       "<style scoped>\n",
       "    .dataframe tbody tr th:only-of-type {\n",
       "        vertical-align: middle;\n",
       "    }\n",
       "\n",
       "    .dataframe tbody tr th {\n",
       "        vertical-align: top;\n",
       "    }\n",
       "\n",
       "    .dataframe thead th {\n",
       "        text-align: right;\n",
       "    }\n",
       "</style>\n",
       "<table border=\"1\" class=\"dataframe\">\n",
       "  <thead>\n",
       "    <tr style=\"text-align: right;\">\n",
       "      <th></th>\n",
       "      <th>Region</th>\n",
       "      <th>Country</th>\n",
       "      <th>State</th>\n",
       "      <th>City</th>\n",
       "      <th>Month</th>\n",
       "      <th>Day</th>\n",
       "      <th>Year</th>\n",
       "      <th>AvgTemperature</th>\n",
       "    </tr>\n",
       "  </thead>\n",
       "  <tbody>\n",
       "    <tr>\n",
       "      <th>0</th>\n",
       "      <td>Africa</td>\n",
       "      <td>Algeria</td>\n",
       "      <td>NaN</td>\n",
       "      <td>Algiers</td>\n",
       "      <td>1</td>\n",
       "      <td>1</td>\n",
       "      <td>1995</td>\n",
       "      <td>64.2</td>\n",
       "    </tr>\n",
       "    <tr>\n",
       "      <th>1</th>\n",
       "      <td>Africa</td>\n",
       "      <td>Algeria</td>\n",
       "      <td>NaN</td>\n",
       "      <td>Algiers</td>\n",
       "      <td>1</td>\n",
       "      <td>2</td>\n",
       "      <td>1995</td>\n",
       "      <td>49.4</td>\n",
       "    </tr>\n",
       "    <tr>\n",
       "      <th>2</th>\n",
       "      <td>Africa</td>\n",
       "      <td>Algeria</td>\n",
       "      <td>NaN</td>\n",
       "      <td>Algiers</td>\n",
       "      <td>1</td>\n",
       "      <td>3</td>\n",
       "      <td>1995</td>\n",
       "      <td>48.8</td>\n",
       "    </tr>\n",
       "    <tr>\n",
       "      <th>3</th>\n",
       "      <td>Africa</td>\n",
       "      <td>Algeria</td>\n",
       "      <td>NaN</td>\n",
       "      <td>Algiers</td>\n",
       "      <td>1</td>\n",
       "      <td>4</td>\n",
       "      <td>1995</td>\n",
       "      <td>46.4</td>\n",
       "    </tr>\n",
       "    <tr>\n",
       "      <th>4</th>\n",
       "      <td>Africa</td>\n",
       "      <td>Algeria</td>\n",
       "      <td>NaN</td>\n",
       "      <td>Algiers</td>\n",
       "      <td>1</td>\n",
       "      <td>5</td>\n",
       "      <td>1995</td>\n",
       "      <td>47.9</td>\n",
       "    </tr>\n",
       "  </tbody>\n",
       "</table>\n",
       "</div>"
      ],
      "text/plain": [
       "   Region  Country State     City  Month  Day  Year  AvgTemperature\n",
       "0  Africa  Algeria   NaN  Algiers      1    1  1995            64.2\n",
       "1  Africa  Algeria   NaN  Algiers      1    2  1995            49.4\n",
       "2  Africa  Algeria   NaN  Algiers      1    3  1995            48.8\n",
       "3  Africa  Algeria   NaN  Algiers      1    4  1995            46.4\n",
       "4  Africa  Algeria   NaN  Algiers      1    5  1995            47.9"
      ]
     },
     "execution_count": 3,
     "metadata": {},
     "output_type": "execute_result"
    }
   ],
   "source": [
    "data_temp = pd.read_csv('./data/city_temperature.csv')\n",
    "data_temp.head()"
   ]
  },
  {
   "cell_type": "code",
   "execution_count": 4,
   "metadata": {},
   "outputs": [
    {
     "data": {
      "text/plain": [
       "array(['Afghanistan', 'Africa', 'Albania', 'Algeria', 'Andorra', 'Angola',\n",
       "       'Antigua and Barbuda', 'Argentina', 'Armenia', 'Asia', 'Australia',\n",
       "       'Austria', 'Azerbaijan', 'Bahamas', 'Bahrain', 'Bangladesh',\n",
       "       'Barbados', 'Belarus', 'Belgium', 'Belize', 'Benin', 'Bhutan',\n",
       "       'Bolivia', 'Bosnia and Herzegovina', 'Botswana', 'Brazil',\n",
       "       'Brunei', 'Bulgaria', 'Burkina Faso', 'Burundi', 'Cambodia',\n",
       "       'Cameroon', 'Canada', 'Cape Verde', 'Central African Republic',\n",
       "       'Chad', 'Chile', 'China', 'Colombia', 'Comoros', 'Congo',\n",
       "       'Cook Islands', 'Costa Rica', \"Cote d'Ivoire\", 'Croatia', 'Cuba',\n",
       "       'Cyprus', 'Czechia', 'Democratic Republic of Congo', 'Denmark',\n",
       "       'Djibouti', 'Dominica', 'Dominican Republic', 'East Timor',\n",
       "       'Ecuador', 'Egypt', 'El Salvador', 'Equatorial Guinea', 'Eritrea',\n",
       "       'Estonia', 'Eswatini', 'Ethiopia', 'Europe', 'European Union (27)',\n",
       "       'Fiji', 'Finland', 'France', 'Gabon', 'Gambia', 'Georgia',\n",
       "       'Germany', 'Ghana', 'Greece', 'Grenada', 'Guatemala', 'Guinea',\n",
       "       'Guinea-Bissau', 'Guyana', 'Haiti', 'High-income countries',\n",
       "       'Honduras', 'Hungary', 'Iceland', 'India', 'Indonesia', 'Iran',\n",
       "       'Iraq', 'Ireland', 'Israel', 'Italy', 'Jamaica', 'Japan', 'Jordan',\n",
       "       'Kazakhstan', 'Kenya', 'Kiribati', 'Kuwait', 'Kyrgyzstan', 'Laos',\n",
       "       'Latvia', 'Lebanon', 'Lesotho', 'Liberia', 'Libya',\n",
       "       'Liechtenstein', 'Lithuania', 'Low-income countries',\n",
       "       'Lower-middle-income countries', 'Luxembourg', 'Madagascar',\n",
       "       'Malawi', 'Malaysia', 'Maldives', 'Mali', 'Malta',\n",
       "       'Marshall Islands', 'Mauritania', 'Mauritius', 'Mexico',\n",
       "       'Micronesia (country)', 'Moldova', 'Mongolia', 'Montenegro',\n",
       "       'Morocco', 'Mozambique', 'Myanmar', 'Namibia', 'Nauru', 'Nepal',\n",
       "       'Netherlands', 'New Zealand', 'Nicaragua', 'Niger', 'Nigeria',\n",
       "       'Niue', 'North America', 'North Korea', 'North Macedonia',\n",
       "       'Norway', 'Oceania', 'Oman', 'Pakistan', 'Palau', 'Panama',\n",
       "       'Papua New Guinea', 'Paraguay', 'Peru', 'Philippines', 'Poland',\n",
       "       'Portugal', 'Qatar', 'Romania', 'Russia', 'Rwanda',\n",
       "       'Saint Kitts and Nevis', 'Saint Lucia',\n",
       "       'Saint Vincent and the Grenadines', 'Samoa',\n",
       "       'Sao Tome and Principe', 'Saudi Arabia', 'Senegal', 'Serbia',\n",
       "       'Seychelles', 'Sierra Leone', 'Singapore', 'Slovakia', 'Slovenia',\n",
       "       'Solomon Islands', 'Somalia', 'South Africa', 'South America',\n",
       "       'South Korea', 'South Sudan', 'Spain', 'Sri Lanka', 'Sudan',\n",
       "       'Suriname', 'Sweden', 'Switzerland', 'Syria', 'Tajikistan',\n",
       "       'Tanzania', 'Thailand', 'Togo', 'Tonga', 'Trinidad and Tobago',\n",
       "       'Tunisia', 'Turkey', 'Turkmenistan', 'Tuvalu', 'Uganda', 'Ukraine',\n",
       "       'United Arab Emirates', 'United Kingdom', 'United States',\n",
       "       'Upper-middle-income countries', 'Uruguay', 'Uzbekistan',\n",
       "       'Vanuatu', 'Venezuela', 'Vietnam', 'World', 'Yemen', 'Zambia',\n",
       "       'Zimbabwe'], dtype=object)"
      ]
     },
     "execution_count": 4,
     "metadata": {},
     "output_type": "execute_result"
    }
   ],
   "source": [
    "# lister les les entity de data_sector\n",
    "data_sector['Entity'].unique()"
   ]
  },
  {
   "cell_type": "code",
   "execution_count": 7,
   "metadata": {},
   "outputs": [
    {
     "data": {
      "text/plain": [
       "array(['Algeria', 'Burundi', 'Benin', 'Central African Republic', 'Congo',\n",
       "       'Egypt', 'Ethiopia', 'Gabon', 'Gambia', 'Guinea', 'Guinea-Bissau',\n",
       "       'Ivory Coast', 'Kenya', 'Morocco', 'Madagascar', 'Mauritania',\n",
       "       'Malawi', 'Mozambique', 'Namibia', 'Nigeria', 'Senegal',\n",
       "       'Sierra Leone', 'South Africa', 'Togo', 'Tunisia', 'Tanzania',\n",
       "       'Uganda', 'Zambia', 'Bangladesh', 'China', 'Hong Kong', 'India',\n",
       "       'Indonesia', 'Japan', 'Kazakhstan', 'Kyrgyzstan', 'Laos',\n",
       "       'Malaysia', 'Mongolia', 'Myanmar (Burma)', 'Nepal', 'North Korea',\n",
       "       'Pakistan', 'Philippines', 'Singapore', 'South Korea', 'Sri Lanka',\n",
       "       'Taiwan', 'Tajikistan', 'Thailand', 'Turkmenistan', 'Uzbekistan',\n",
       "       'Vietnam', 'Australia', 'New Zealand', 'Albania', 'Austria',\n",
       "       'Belarus', 'Belgium', 'Bulgaria', 'Croatia', 'Cyprus',\n",
       "       'Czech Republic', 'Denmark', 'Finland', 'France', 'Germany',\n",
       "       'Georgia', 'Greece', 'Hungary', 'Iceland', 'Ireland', 'Italy',\n",
       "       'Latvia', 'Macedonia', 'The Netherlands', 'Norway', 'Poland',\n",
       "       'Portugal', 'Romania', 'Russia', 'Serbia-Montenegro', 'Slovakia',\n",
       "       'Spain', 'Sweden', 'Switzerland', 'Ukraine', 'United Kingdom',\n",
       "       'Yugoslavia', 'Bahrain', 'Israel', 'Jordan', 'Kuwait', 'Lebanon',\n",
       "       'Oman', 'Qatar', 'Saudi Arabia', 'Syria', 'Turkey',\n",
       "       'United Arab Emirates', 'Canada', 'Mexico', 'Argentina', 'Bahamas',\n",
       "       'Bermuda', 'Belize', 'Bolivia', 'Barbados', 'Brazil', 'Colombia',\n",
       "       'Costa Rica', 'Cuba', 'Dominican Republic', 'Equador', 'Guatemala',\n",
       "       'Guyana', 'Haiti', 'Honduras', 'Nicaragua', 'Panama', 'Peru',\n",
       "       'Suriname', 'Uruguay', 'Venezuela', 'US'], dtype=object)"
      ]
     },
     "execution_count": 7,
     "metadata": {},
     "output_type": "execute_result"
    }
   ],
   "source": [
    "# lister les les entity de data_temp\n",
    "data_temp['Country'].unique()"
   ]
  },
  {
   "cell_type": "code",
   "execution_count": 10,
   "metadata": {},
   "outputs": [
    {
     "name": "stdout",
     "output_type": "stream",
     "text": [
      "{'Ukraine', 'Pakistan', 'Belgium', 'Cuba', 'China', 'Congo', 'Nicaragua', 'Sri Lanka', 'Haiti', 'Italy', 'Panama', 'Finland', 'United Arab Emirates', 'Turkey', 'Costa Rica', 'Belize', 'Guyana', 'Oman', 'Namibia', 'Morocco', 'Guinea', 'Georgia', 'Tunisia', 'Russia', 'India', 'Romania', 'Mexico', 'Belarus', 'Dominican Republic', 'Ethiopia', 'Gambia', 'Laos', 'Cyprus', 'Tanzania', 'Bahrain', 'Germany', 'Kenya', 'Togo', 'Australia', 'Greece', 'United Kingdom', 'Syria', 'Austria', 'Egypt', 'Israel', 'Peru', 'Senegal', 'Tajikistan', 'Singapore', 'Poland', 'Albania', 'Bangladesh', 'Uganda', 'Bahamas', 'Qatar', 'Canada', 'Sierra Leone', 'Kazakhstan', 'Nepal', 'Nigeria', 'France', 'Madagascar', 'Mauritania', 'Japan', 'Slovakia', 'Iceland', 'Guatemala', 'Vietnam', 'Jordan', 'Suriname', 'Norway', 'Guinea-Bissau', 'Philippines', 'Barbados', 'Zambia', 'Switzerland', 'Central African Republic', 'Brazil', 'Ireland', 'South Korea', 'Hungary', 'Portugal', 'Benin', 'Venezuela', 'South Africa', 'New Zealand', 'Indonesia', 'Latvia', 'Saudi Arabia', 'Malaysia', 'Denmark', 'Malawi', 'Bulgaria', 'Spain', 'Algeria', 'Gabon', 'Lebanon', 'North Korea', 'Mozambique', 'Kyrgyzstan', 'Kuwait', 'Mongolia', 'Argentina', 'Honduras', 'Colombia', 'Croatia', 'Sweden', 'Bolivia', 'Thailand', 'Burundi', 'Uruguay', 'Uzbekistan', 'Turkmenistan'}\n",
      "{'High-income countries', 'El Salvador', 'Saint Vincent and the Grenadines', 'Yemen', 'Cameroon', 'Montenegro', 'Equatorial Guinea', 'Eritrea', 'Equador', 'Cook Islands', 'Taiwan', 'Ghana', 'World', 'Afghanistan', 'Antigua and Barbuda', 'Chile', 'Comoros', 'Iran', 'Samoa', 'Grenada', 'Cape Verde', 'Africa', 'Europe', 'Ecuador', 'Fiji', 'Saint Lucia', 'Czechia', 'Vanuatu', 'Tuvalu', 'Tonga', 'Kiribati', 'Bermuda', 'Netherlands', 'Low-income countries', 'Palau', 'Dominica', 'Zimbabwe', 'Oceania', 'North America', 'Nauru', 'Serbia-Montenegro', 'Czech Republic', 'East Timor', 'Mauritius', 'Burkina Faso', 'Estonia', 'United States', 'Paraguay', 'South Sudan', 'Democratic Republic of Congo', 'Marshall Islands', 'Bhutan', 'Liechtenstein', 'Cambodia', 'Slovenia', 'Seychelles', 'Papua New Guinea', 'Niue', 'Hong Kong', 'Malta', 'South America', 'Iraq', 'Andorra', 'Saint Kitts and Nevis', 'Mali', 'Sao Tome and Principe', 'Lithuania', 'Azerbaijan', 'Liberia', 'Trinidad and Tobago', 'Lesotho', 'Eswatini', 'Solomon Islands', 'Macedonia', 'The Netherlands', 'Serbia', 'Libya', 'Niger', 'Rwanda', 'Upper-middle-income countries', 'Maldives', 'US', 'Luxembourg', 'Asia', 'Chad', 'Moldova', 'Yugoslavia', 'Djibouti', 'North Macedonia', 'Sudan', 'Jamaica', 'Ivory Coast', 'Myanmar (Burma)', 'Angola', 'Bosnia and Herzegovina', 'Armenia', 'Lower-middle-income countries', 'Botswana', 'European Union (27)', \"Cote d'Ivoire\", 'Brunei', 'Myanmar', 'Micronesia (country)', 'Somalia'}\n"
     ]
    }
   ],
   "source": [
    "# comparer les deux listes, on va essayer de trouver les correspondances entre les deux listes\n",
    "common_entities = set(data_sector['Entity']).intersection(set(data_temp['Country']))\n",
    "print(common_entities)\n",
    "\n",
    "# afficher ceux qui ne correspondent pas\n",
    "sector_entities = set(data_sector['Entity'])\n",
    "temp_entities = set(data_temp['Country'])\n",
    "non_common_entities = sector_entities.symmetric_difference(temp_entities)\n",
    "print(non_common_entities)\n",
    "\n"
   ]
  },
  {
   "cell_type": "code",
   "execution_count": 11,
   "metadata": {},
   "outputs": [
    {
     "name": "stderr",
     "output_type": "stream",
     "text": [
      "/var/folders/pl/0y6c2sfj0md5g3gx0c12lmrw0000gn/T/ipykernel_51097/61945051.py:5: DtypeWarning: Columns (2) have mixed types. Specify dtype option on import or set low_memory=False.\n",
      "  data_temp = pd.read_csv('./data/city_temperature.csv')\n"
     ]
    },
    {
     "name": "stdout",
     "output_type": "stream",
     "text": [
      "Carte sauvegardée dans map_countries.html. Ouvrez ce fichier dans un navigateur.\n"
     ]
    }
   ],
   "source": [
    "import folium\n",
    "import pandas as pd\n",
    "\n",
    "# Charger le dataset des températures\n",
    "data_temp = pd.read_csv('./data/city_temperature.csv')\n",
    "\n",
    "# Extraire les pays uniques\n",
    "unique_countries = data_temp['Country'].dropna().unique()\n",
    "\n",
    "# Créer une carte de base centrée sur le monde\n",
    "map_countries = folium.Map(location=[20, 0], zoom_start=2, tiles=\"cartodbpositron\")\n",
    "\n",
    "# Ajouter des marqueurs pour chaque pays\n",
    "for country in unique_countries:\n",
    "    folium.Marker(location=[0, 0], popup=country).add_to(map_countries)  # Placeholder coordinates\n",
    "\n",
    "# Afficher la carte dans un fichier HTML\n",
    "map_countries.save(\"map_countries.html\")\n",
    "print(\"Carte sauvegardée dans map_countries.html. Ouvrez ce fichier dans un navigateur.\")\n"
   ]
  },
  {
   "cell_type": "code",
   "execution_count": null,
   "metadata": {},
   "outputs": [],
   "source": [
    "# je veux merge les 2 dataframes sur les colonnes \"Entity\" et \"Year\" de data_sector et \"Country\" et \"Year\" de data_temp"
   ]
  },
  {
   "cell_type": "code",
   "execution_count": 5,
   "metadata": {},
   "outputs": [],
   "source": [
    "data_sector = data_sector.rename(columns={'country': 'Country'})\n",
    "\n",
    "data = pd.merge(data_sector, data_temp, on='Country')"
   ]
  },
  {
   "cell_type": "code",
   "execution_count": 6,
   "metadata": {},
   "outputs": [
    {
     "data": {
      "text/html": [
       "<div>\n",
       "<style scoped>\n",
       "    .dataframe tbody tr th:only-of-type {\n",
       "        vertical-align: middle;\n",
       "    }\n",
       "\n",
       "    .dataframe tbody tr th {\n",
       "        vertical-align: top;\n",
       "    }\n",
       "\n",
       "    .dataframe thead th {\n",
       "        text-align: right;\n",
       "    }\n",
       "</style>\n",
       "<table border=\"1\" class=\"dataframe\">\n",
       "  <thead>\n",
       "    <tr style=\"text-align: right;\">\n",
       "      <th></th>\n",
       "      <th>Country</th>\n",
       "      <th>date</th>\n",
       "      <th>sector</th>\n",
       "      <th>value</th>\n",
       "      <th>timestamp</th>\n",
       "      <th>dt</th>\n",
       "      <th>AverageTemperature</th>\n",
       "      <th>AverageTemperatureUncertainty</th>\n",
       "      <th>City</th>\n",
       "      <th>Latitude</th>\n",
       "      <th>Longitude</th>\n",
       "    </tr>\n",
       "  </thead>\n",
       "  <tbody>\n",
       "  </tbody>\n",
       "</table>\n",
       "</div>"
      ],
      "text/plain": [
       "Empty DataFrame\n",
       "Columns: [Country, date, sector, value, timestamp, dt, AverageTemperature, AverageTemperatureUncertainty, City, Latitude, Longitude]\n",
       "Index: []"
      ]
     },
     "execution_count": 6,
     "metadata": {},
     "output_type": "execute_result"
    }
   ],
   "source": [
    "data.head()"
   ]
  },
  {
   "cell_type": "markdown",
   "metadata": {},
   "source": [
    "### Traitement des données"
   ]
  },
  {
   "cell_type": "code",
   "execution_count": null,
   "metadata": {},
   "outputs": [],
   "source": [
    "# "
   ]
  }
 ],
 "metadata": {
  "kernelspec": {
   "display_name": "venv",
   "language": "python",
   "name": "python3"
  },
  "language_info": {
   "codemirror_mode": {
    "name": "ipython",
    "version": 3
   },
   "file_extension": ".py",
   "mimetype": "text/x-python",
   "name": "python",
   "nbconvert_exporter": "python",
   "pygments_lexer": "ipython3",
   "version": "3.12.8"
  }
 },
 "nbformat": 4,
 "nbformat_minor": 2
}
